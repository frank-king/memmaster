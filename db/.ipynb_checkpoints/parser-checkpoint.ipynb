{
 "cells": [
  {
   "cell_type": "code",
   "execution_count": 79,
   "metadata": {},
   "outputs": [],
   "source": [
    "import re\n",
    "import collections\n",
    "import re\n",
    "\n",
    "'''\n",
    "pattern = re.compile(r\"\"\"\n",
    "    ^([a-zéè]+)\\ =\\ \n",
    "    ([^【]+)\n",
    "    (?: (【[^【】]+】(?:[^【]+) )*)\n",
    "    \"$\n",
    "\"\"\", flags=re.DEBUG | re.MULTILINE | re.VERBOSE | re.UNICODE)\n",
    "'''\n",
    "\n",
    "Token = collections.namedtuple('Token', ['type', 'value'])\n",
    "\n",
    "def tokenize(text):\n",
    "    token_specification = [\n",
    "        ('WORD'       , r'^[A-Za-zéè]+([\\-＝ ][A-Za-zéè]+)*'),\n",
    "        ('EXPLANATION', r' = [^【]+'),\n",
    "        ('ETYMOLOGY'  , r'【源】[^【]+'),\n",
    "        ('MNEMONIC'   , r'【记】[^【]+'),\n",
    "        ('ANALOGY'    , r'【类】[^【]+'),\n",
    "        ('ANTONYM'    , r'【反】[^【]+'),\n",
    "        ('EXAMPLE'    , r'【例】[^【]+'),\n",
    "        ('REFER'      , r'【参】[^【]+'),\n",
    "        ('ROOT'       , r'【根】[^【]+'),\n",
    "        ('DISTINGUISH', r'【区】[^【]+'),\n",
    "        ('PHRASE'     , r'【组】[^【]+'),\n",
    "        ('NOTES'      , r'【九阴真经第.章】[^【]+'),\n",
    "        ('SPECIAL'    , r'【[^】]+】[^【]+'),\n",
    "        ('END'        , r'\"\\n'),\n",
    "        ('MISMATCH'   , r'.')\n",
    "    ]\n",
    "    tok_regex = '|'.join('(?P<%s>%s)' % pair for pair in token_specification)\n",
    "    for mo in re.finditer(tok_regex, text):\n",
    "        kind = mo.lastgroup\n",
    "        value = mo.group(kind)\n",
    "        if kind == 'MISMATCH':\n",
    "            raise RuntimeError(f'{value!r} unexpected')\n",
    "        else:\n",
    "            yield Token(kind, value)"
   ]
  },
  {
   "cell_type": "code",
   "execution_count": 80,
   "metadata": {},
   "outputs": [
    {
     "name": "stdout",
     "output_type": "stream",
     "text": [
      "Token(type='WORD', value='abacus ')\n"
     ]
    },
    {
     "ename": "RuntimeError",
     "evalue": "'=' unexpected",
     "output_type": "error",
     "traceback": [
      "\u001b[0;31m---------------------------------------------------------------------------\u001b[0m",
      "\u001b[0;31mRuntimeError\u001b[0m                              Traceback (most recent call last)",
      "\u001b[0;32m<ipython-input-80-fb9d688f2bdb>\u001b[0m in \u001b[0;36m<module>\u001b[0;34m()\u001b[0m\n\u001b[1;32m      1\u001b[0m \u001b[0;32mwith\u001b[0m \u001b[0mopen\u001b[0m\u001b[0;34m(\u001b[0m\u001b[0;34m\"GRE.txt\"\u001b[0m\u001b[0;34m,\u001b[0m \u001b[0;34m\"r\"\u001b[0m\u001b[0;34m)\u001b[0m \u001b[0;32mas\u001b[0m \u001b[0mtxt\u001b[0m\u001b[0;34m:\u001b[0m\u001b[0;34m\u001b[0m\u001b[0m\n\u001b[1;32m      2\u001b[0m     \u001b[0;32mfor\u001b[0m \u001b[0mline\u001b[0m \u001b[0;32min\u001b[0m \u001b[0mtxt\u001b[0m\u001b[0;34m.\u001b[0m\u001b[0mreadlines\u001b[0m\u001b[0;34m(\u001b[0m\u001b[0;34m)\u001b[0m\u001b[0;34m:\u001b[0m\u001b[0;34m\u001b[0m\u001b[0m\n\u001b[0;32m----> 3\u001b[0;31m         \u001b[0;32mfor\u001b[0m \u001b[0mtoken\u001b[0m \u001b[0;32min\u001b[0m \u001b[0mtokenize\u001b[0m\u001b[0;34m(\u001b[0m\u001b[0mline\u001b[0m\u001b[0;34m)\u001b[0m\u001b[0;34m:\u001b[0m\u001b[0;34m\u001b[0m\u001b[0m\n\u001b[0m\u001b[1;32m      4\u001b[0m             \u001b[0mprint\u001b[0m\u001b[0;34m(\u001b[0m\u001b[0mtoken\u001b[0m\u001b[0;34m)\u001b[0m\u001b[0;34m\u001b[0m\u001b[0m\n\u001b[1;32m      5\u001b[0m         \u001b[0mprint\u001b[0m\u001b[0;34m(\u001b[0m\u001b[0;34m)\u001b[0m\u001b[0;34m\u001b[0m\u001b[0m\n",
      "\u001b[0;32m<ipython-input-79-0370ff8fbef7>\u001b[0m in \u001b[0;36mtokenize\u001b[0;34m(text)\u001b[0m\n\u001b[1;32m     37\u001b[0m         \u001b[0mvalue\u001b[0m \u001b[0;34m=\u001b[0m \u001b[0mmo\u001b[0m\u001b[0;34m.\u001b[0m\u001b[0mgroup\u001b[0m\u001b[0;34m(\u001b[0m\u001b[0mkind\u001b[0m\u001b[0;34m)\u001b[0m\u001b[0;34m\u001b[0m\u001b[0m\n\u001b[1;32m     38\u001b[0m         \u001b[0;32mif\u001b[0m \u001b[0mkind\u001b[0m \u001b[0;34m==\u001b[0m \u001b[0;34m'MISMATCH'\u001b[0m\u001b[0;34m:\u001b[0m\u001b[0;34m\u001b[0m\u001b[0m\n\u001b[0;32m---> 39\u001b[0;31m             \u001b[0;32mraise\u001b[0m \u001b[0mRuntimeError\u001b[0m\u001b[0;34m(\u001b[0m\u001b[0;34mf'{value!r} unexpected'\u001b[0m\u001b[0;34m)\u001b[0m\u001b[0;34m\u001b[0m\u001b[0m\n\u001b[0m\u001b[1;32m     40\u001b[0m         \u001b[0;32melse\u001b[0m\u001b[0;34m:\u001b[0m\u001b[0;34m\u001b[0m\u001b[0m\n\u001b[1;32m     41\u001b[0m             \u001b[0;32myield\u001b[0m \u001b[0mToken\u001b[0m\u001b[0;34m(\u001b[0m\u001b[0mkind\u001b[0m\u001b[0;34m,\u001b[0m \u001b[0mvalue\u001b[0m\u001b[0;34m)\u001b[0m\u001b[0;34m\u001b[0m\u001b[0m\n",
      "\u001b[0;31mRuntimeError\u001b[0m: '=' unexpected"
     ]
    }
   ],
   "source": [
    "with open(\"GRE.txt\", \"r\") as txt:\n",
    "    for line in txt.readlines():\n",
    "        for token in tokenize(line):\n",
    "            print(token)\n",
    "        print()\n",
    "        # match = pattern.match(line)\n",
    "        # print('\\n'.join(match.groups()))"
   ]
  },
  {
   "cell_type": "code",
   "execution_count": null,
   "metadata": {},
   "outputs": [],
   "source": []
  }
 ],
 "metadata": {
  "kernelspec": {
   "display_name": "Python 3",
   "language": "python",
   "name": "python3"
  },
  "language_info": {
   "codemirror_mode": {
    "name": "ipython",
    "version": 3
   },
   "file_extension": ".py",
   "mimetype": "text/x-python",
   "name": "python",
   "nbconvert_exporter": "python",
   "pygments_lexer": "ipython3",
   "version": "3.6.5"
  }
 },
 "nbformat": 4,
 "nbformat_minor": 2
}
